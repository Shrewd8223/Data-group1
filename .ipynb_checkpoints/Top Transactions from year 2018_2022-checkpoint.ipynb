{
 "cells": [
  {
   "cell_type": "code",
   "execution_count": null,
   "id": "9cc70d11",
   "metadata": {},
   "outputs": [],
   "source": []
  },
  {
   "cell_type": "code",
   "execution_count": 1,
   "id": "3dd28ec5",
   "metadata": {},
   "outputs": [
    {
     "ename": "NameError",
     "evalue": "name 'registered_users' is not defined",
     "output_type": "error",
     "traceback": [
      "\u001b[1;31m---------------------------------------------------------------------------\u001b[0m",
      "\u001b[1;31mNameError\u001b[0m                                 Traceback (most recent call last)",
      "Input \u001b[1;32mIn [1]\u001b[0m, in \u001b[0;36m<cell line: 16>\u001b[1;34m()\u001b[0m\n\u001b[0;32m     13\u001b[0m transactions \u001b[38;5;241m=\u001b[39m [state[\u001b[38;5;124m'\u001b[39m\u001b[38;5;124mcount\u001b[39m\u001b[38;5;124m'\u001b[39m] \u001b[38;5;28;01mfor\u001b[39;00m state \u001b[38;5;129;01min\u001b[39;00m states]\n\u001b[0;32m     15\u001b[0m plt\u001b[38;5;241m.\u001b[39mfigure(figsize\u001b[38;5;241m=\u001b[39m(\u001b[38;5;241m20\u001b[39m,\u001b[38;5;241m10\u001b[39m))\n\u001b[1;32m---> 16\u001b[0m plt\u001b[38;5;241m.\u001b[39mbar(state_names, \u001b[43mregistered_users\u001b[49m,color\u001b[38;5;241m=\u001b[39m\u001b[38;5;124m'\u001b[39m\u001b[38;5;124morange\u001b[39m\u001b[38;5;124m'\u001b[39m)\n\u001b[0;32m     17\u001b[0m plt\u001b[38;5;241m.\u001b[39mtitle(\u001b[38;5;124m'\u001b[39m\u001b[38;5;124mTop 10 States Transactions from year 2018_2022\u001b[39m\u001b[38;5;124m'\u001b[39m)\n\u001b[0;32m     18\u001b[0m plt\u001b[38;5;241m.\u001b[39mxlabel(\u001b[38;5;124m'\u001b[39m\u001b[38;5;124mState\u001b[39m\u001b[38;5;124m'\u001b[39m\u001b[38;5;241m.\u001b[39mupper())\n",
      "\u001b[1;31mNameError\u001b[0m: name 'registered_users' is not defined"
     ]
    },
    {
     "data": {
      "text/plain": [
       "<Figure size 1440x720 with 0 Axes>"
      ]
     },
     "metadata": {},
     "output_type": "display_data"
    }
   ],
   "source": [
    "### Top 10 Transactions by state from year 2018_2022\n",
    "\n",
    "import json\n",
    "import matplotlib.pyplot as plt\n",
    "with open(\"Top_10_Transactions_State.json\", 'r') as f:\n",
    "    \n",
    "    data = json.load(f)\n",
    "    \n",
    "    \n",
    "states = sorted(data['data']['states'], key=lambda x: x['count'],reverse=True)\n",
    "state_names = [state['name'].upper() for state in states]\n",
    " \n",
    "transactions = [state['count'] for state in states]\n",
    " \n",
    "plt.figure(figsize=(20,10))\n",
    "plt.bar(state_names, registered_users,color='orange')\n",
    "plt.title('Top 10 States Transactions from year 2018_2022')\n",
    "plt.xlabel('State'.upper())\n",
    "plt.ylabel('Number of Transactions')\n",
    "plt.show()"
   ]
  },
  {
   "cell_type": "code",
   "execution_count": 3,
   "id": "ab52c415",
   "metadata": {},
   "outputs": [
    {
     "ename": "FileNotFoundError",
     "evalue": "[Errno 2] No such file or directory: 'C:/Users/prem_patil/Desktop/Top_10_Transactions_district.json'",
     "output_type": "error",
     "traceback": [
      "\u001b[1;31m---------------------------------------------------------------------------\u001b[0m",
      "\u001b[1;31mFileNotFoundError\u001b[0m                         Traceback (most recent call last)",
      "Input \u001b[1;32mIn [3]\u001b[0m, in \u001b[0;36m<cell line: 6>\u001b[1;34m()\u001b[0m\n\u001b[0;32m      4\u001b[0m \u001b[38;5;28;01mimport\u001b[39;00m \u001b[38;5;21;01mjson\u001b[39;00m\n\u001b[0;32m      5\u001b[0m \u001b[38;5;28;01mimport\u001b[39;00m \u001b[38;5;21;01mmatplotlib\u001b[39;00m\u001b[38;5;21;01m.\u001b[39;00m\u001b[38;5;21;01mpyplot\u001b[39;00m \u001b[38;5;28;01mas\u001b[39;00m \u001b[38;5;21;01mplt\u001b[39;00m\n\u001b[1;32m----> 6\u001b[0m \u001b[38;5;28;01mwith\u001b[39;00m \u001b[38;5;28;43mopen\u001b[39;49m\u001b[43m(\u001b[49m\u001b[38;5;124;43m\"\u001b[39;49m\u001b[38;5;124;43mC:/Users/prem_patil/Desktop/Top_10_Transactions_district.json\u001b[39;49m\u001b[38;5;124;43m\"\u001b[39;49m\u001b[43m,\u001b[49m\u001b[43m \u001b[49m\u001b[38;5;124;43m'\u001b[39;49m\u001b[38;5;124;43mr\u001b[39;49m\u001b[38;5;124;43m'\u001b[39;49m\u001b[43m)\u001b[49m \u001b[38;5;28;01mas\u001b[39;00m f:\n\u001b[0;32m      8\u001b[0m     data \u001b[38;5;241m=\u001b[39m json\u001b[38;5;241m.\u001b[39mload(f)\n\u001b[0;32m     11\u001b[0m districts \u001b[38;5;241m=\u001b[39m \u001b[38;5;28msorted\u001b[39m(data[\u001b[38;5;124m'\u001b[39m\u001b[38;5;124mdata\u001b[39m\u001b[38;5;124m'\u001b[39m][\u001b[38;5;124m'\u001b[39m\u001b[38;5;124mdistricts\u001b[39m\u001b[38;5;124m'\u001b[39m], key\u001b[38;5;241m=\u001b[39m\u001b[38;5;28;01mlambda\u001b[39;00m x: x[\u001b[38;5;124m'\u001b[39m\u001b[38;5;124mcount\u001b[39m\u001b[38;5;124m'\u001b[39m],reverse\u001b[38;5;241m=\u001b[39m\u001b[38;5;28;01mTrue\u001b[39;00m)\n",
      "\u001b[1;31mFileNotFoundError\u001b[0m: [Errno 2] No such file or directory: 'C:/Users/prem_patil/Desktop/Top_10_Transactions_district.json'"
     ]
    }
   ],
   "source": [
    "### Top 10 Transctions by District from year 2018_2022\n",
    "\n",
    "\n",
    "import json\n",
    "import matplotlib.pyplot as plt\n",
    "with open(\"C:/Users/prem_patil/Desktop/Top_10_Transactions_district.json\", 'r') as f:\n",
    "    \n",
    "    data = json.load(f)\n",
    "    \n",
    "    \n",
    "districts = sorted(data['data']['districts'], key=lambda x: x['count'],reverse=True)\n",
    "districts_names = [district['name'].upper() for district in districts]\n",
    " \n",
    "transactions = [district['count'] for district in districts]\n",
    " \n",
    "plt.figure(figsize=(20,10))\n",
    "plt.bar(state_names, registered_users,color='orange')\n",
    "plt.title('Transactions for Top 10 districts from year 2018_2022')\n",
    "plt.xlabel('Districts'.upper())\n",
    "plt.ylabel('Number of Transactions')\n",
    "plt.show()"
   ]
  },
  {
   "cell_type": "code",
   "execution_count": 5,
   "id": "81c7c34a",
   "metadata": {},
   "outputs": [
    {
     "data": {
      "image/png": "[encoded data removed]",
      "text/plain": [
       "<Figure size 1440x720 with 1 Axes>"
      ]
     },
     "metadata": {
      "needs_background": "light"
     },
     "output_type": "display_data"
    }
   ],
   "source": [
    "### Top 10 Transcations Pincodewise\n",
    "\n",
    "\n",
    "\n",
    "import json\n",
    "import matplotlib.pyplot as plt\n",
    "with open(\"Top 10 Transcations_pincodewise.json\", 'r') as f:\n",
    "    \n",
    "    data = json.load(f)\n",
    "    \n",
    "    \n",
    "states = sorted(data['data']['pincodes'], key=lambda x: x['count'],reverse=True)\n",
    "state_names = [state['name'].upper() for state in states]\n",
    " \n",
    "registered_users = [state['count'] for state in states]\n",
    " \n",
    "plt.figure(figsize=(20,10))\n",
    "plt.bar(state_names, registered_users,color='orange')\n",
    "plt.title('Top 10 Transactions Pincodewise from year 2018_2022')\n",
    "plt.xlabel('Pincode'.upper())\n",
    "plt.ylabel('Number of Transactions')\n",
    "plt.show()\n",
    "\n"
   ]
  },
  {
   "cell_type": "code",
   "execution_count": null,
   "id": "cfb8eadf",
   "metadata": {},
   "outputs": [],
   "source": []
  }
 ],
 "metadata": {
  "kernelspec": {
   "display_name": "Python 3 (ipykernel)",
   "language": "python",
   "name": "python3"
  },
  "language_info": {
   "codemirror_mode": {
    "name": "ipython",
    "version": 3
   },
   "file_extension": ".py",
   "mimetype": "text/x-python",
   "name": "python",
   "nbconvert_exporter": "python",
   "pygments_lexer": "ipython3",
   "version": "3.9.12"
  }
 },
 "nbformat": 4,
 "nbformat_minor": 5
}
